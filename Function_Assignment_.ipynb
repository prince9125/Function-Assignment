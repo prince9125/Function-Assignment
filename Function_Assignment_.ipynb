{
  "nbformat": 4,
  "nbformat_minor": 0,
  "metadata": {
    "colab": {
      "provenance": []
    },
    "kernelspec": {
      "name": "python3",
      "display_name": "Python 3"
    },
    "language_info": {
      "name": "python"
    }
  },
  "cells": [
    {
      "cell_type": "markdown",
      "source": [
        "1. What is the difference between a function and a method in Python?\n",
        "\n",
        "Answer: Functions\n",
        "These are reusable blocks of code that can be used for independent tasks. Functions are not specific to any class or object, and can be invoked by their names. Functions are an essential part of programming languages because they make code more modular.\n",
        "Methods\n",
        "These are used to perform actions that are specific to a class or object. Methods are defined within a class and are dependent on it. Methods cannot be called by their names alone, but must be called by referencing the class to which they are associated."
      ],
      "metadata": {
        "id": "cktZoTHvTNwn"
      }
    },
    {
      "cell_type": "code",
      "source": [
        "class Dog:\n",
        "    def my__method(self):\n",
        "        print(\"I am a Dog\")\n",
        "\n",
        "dog = Dog()\n",
        "dog.my__method()"
      ],
      "metadata": {
        "id": "Q_T5N7OSKUdi",
        "colab": {
          "base_uri": "https://localhost:8080/"
        },
        "outputId": "4b64b1fd-33c1-4e5f-944d-872ebf5a8581"
      },
      "execution_count": null,
      "outputs": [
        {
          "output_type": "stream",
          "name": "stdout",
          "text": [
            "I am a Dog\n"
          ]
        }
      ]
    },
    {
      "cell_type": "markdown",
      "source": [
        "2. Explain the concept of function arguments and parameters in Python.\n",
        "\n",
        "Answer: Parameters\n",
        "These are the variables listed in the function definition's parentheses. They define the function's expected input, including the type and number of inputs it can accept. Parameters are part of the function's signature and can have default values.\n",
        "Arguments\n",
        "These are the actual values that are passed to the function when it's called. Arguments can be any scope, including variables that exist outside the function or literals. They do not have default values."
      ],
      "metadata": {
        "id": "IJTbiFCFTZEu"
      }
    },
    {
      "cell_type": "code",
      "source": [
        "def my_function(fname, lname):\n",
        "    print(fname + \" \" +  lname)\n",
        "\n",
        "my_function(\"Emil\", \"Refsnes\")"
      ],
      "metadata": {
        "colab": {
          "base_uri": "https://localhost:8080/"
        },
        "id": "TeOqEQxPNtrW",
        "outputId": "173d6ef4-36e8-410a-ad51-7dc996e07f35"
      },
      "execution_count": null,
      "outputs": [
        {
          "output_type": "stream",
          "name": "stdout",
          "text": [
            "Emil Refsnes\n"
          ]
        }
      ]
    },
    {
      "cell_type": "markdown",
      "source": [
        "3. What are the different ways to define and call a function in Python?\n",
        "\n",
        "Answer: In Python, you define a function with the def keyword, then write the function identifier (name) followed by parentheses and a colon.\n",
        "\n",
        "The next thing you have to do is make sure you indent with a tab or 4 spaces, and then specify what you want the function to do for you.\n",
        "\n",
        "The four steps to defining a function in Python are the following:\n",
        "\n",
        "Use the keyword def to declare the function and follow this up with the function name.\n",
        "Add parameters to the function: they should be within the parentheses of the function. End your line with a colon.\n",
        "Add statements that the functions should execute.\n",
        "End your function with a return statement if the function should output something. Without the return statement, your function will return an object.\n"
      ],
      "metadata": {
        "id": "o2ZJxckiYI90"
      }
    },
    {
      "cell_type": "code",
      "source": [
        "def myfunction():\n",
        "    print(\"Hello World\")"
      ],
      "metadata": {
        "id": "O1guT71pPYxh"
      },
      "execution_count": null,
      "outputs": []
    },
    {
      "cell_type": "markdown",
      "source": [
        "4. What is the purpose of the return statement in a Python function?\n",
        "\n",
        "Answer: Determines the value that the function will return. If not included, the function defaults to returning None.\n",
        "\n",
        "Purpose:\n",
        "\n",
        "Return a value:\n",
        "The return statement allows a function to return a value to the caller. This value can be assigned to a variable and used for further computations or storage.\n",
        "\n",
        "Return multiple values:\n",
        "The return statement can return multiple values by separating them with commas. The returned values are created as a tuple, which the caller can unpack to access individual values.\n",
        "\n",
        "Exit a function based on conditions:\n",
        "The return statement can be used to exit a function based on certain conditions."
      ],
      "metadata": {
        "id": "eIt1XCScZvdk"
      }
    },
    {
      "cell_type": "code",
      "source": [
        "#example\n",
        "def add(x, y):\n",
        "    return x + y\n",
        "\n",
        "\n",
        "output = add(3, 4)\n",
        "print(f'Output of add(3, 4) function is {output}')"
      ],
      "metadata": {
        "colab": {
          "base_uri": "https://localhost:8080/"
        },
        "id": "NNRC_JdsQZD6",
        "outputId": "ebf47975-e33e-4ba1-de84-7b1f1fdfa20e"
      },
      "execution_count": null,
      "outputs": [
        {
          "output_type": "stream",
          "name": "stdout",
          "text": [
            "Output of add(3, 4) function is 7\n"
          ]
        }
      ]
    },
    {
      "cell_type": "markdown",
      "source": [
        "5. What are iterators in Python and how do they differ from iterables?\n",
        "\n",
        "Answer: An iterator is an object that allows traversal through a countable number of values. It is used to iterate over iterable objects like lists, tuples, sets, etc\n",
        "\n",
        "An Iterable is basically an object that any user can iterate over. An Iterator is also an object that helps a user in iterating over another object that is iterable."
      ],
      "metadata": {
        "id": "xdOcpq0qayR3"
      }
    },
    {
      "cell_type": "code",
      "source": [
        "#example\n",
        "s=\"HUG\"\n",
        "s=iter(s)\n",
        "print(s)\n",
        "print(next(s))\n",
        "print(next(s))\n",
        "print(next(s))"
      ],
      "metadata": {
        "colab": {
          "base_uri": "https://localhost:8080/"
        },
        "id": "50HVbOzndAbD",
        "outputId": "3599e42a-69b0-4117-b46a-50d12c09ab1c"
      },
      "execution_count": null,
      "outputs": [
        {
          "output_type": "stream",
          "name": "stdout",
          "text": [
            "<str_iterator object at 0x7b20d5362e30>\n",
            "H\n",
            "U\n",
            "G\n"
          ]
        }
      ]
    },
    {
      "cell_type": "markdown",
      "source": [
        "6. Explain the concept of generators in Python and how they are defined.\n",
        "\n",
        "Answer: Generators are a simple way to create iterators using functions and the yield keyword instead of returning values.\n",
        "\n",
        "A generator function in Python is defined like a normal function, but whenever it needs to generate a value, it does so with the yield keyword rather than return. If the body of a def contains yield, the function automatically becomes a Python generator function.\n",
        "\n",
        "Example:\n"
      ],
      "metadata": {
        "id": "tuAPlKv1b0TO"
      }
    },
    {
      "cell_type": "code",
      "source": [
        "def countdown(n):\n",
        "    while n > 0:\n",
        "        yield n\n",
        "        n -= 1\n",
        "\n",
        "# Creating a generator\n",
        "gen = countdown(5)\n",
        "\n",
        "# Using the generators\n",
        "for num in gen:\n",
        "    print(num)"
      ],
      "metadata": {
        "colab": {
          "base_uri": "https://localhost:8080/"
        },
        "id": "tAmQsJuZccPw",
        "outputId": "a53e7760-64db-4869-acc5-a8ffdc3afa63"
      },
      "execution_count": null,
      "outputs": [
        {
          "output_type": "stream",
          "name": "stdout",
          "text": [
            "5\n",
            "4\n",
            "3\n",
            "2\n",
            "1\n"
          ]
        }
      ]
    },
    {
      "cell_type": "markdown",
      "source": [
        "7. What are the advantages of using generators over regular functions?\n",
        "\n",
        "Answer:\n",
        "\n",
        "1.  Memory Efficiency: One of the biggest advantages of generators is that they are memory efficient. Since a generator yields its values one by one, it does not need to store all of the values in memory at once. This can be especially useful when working with large data sets, as it reduces the risk of running out of memory.\n",
        "\n",
        "2. Readability: Generators can make your code easier to read and understand. By breaking up the iteration process into smaller chunks, you can write code that is more concise and easier to follow.\n",
        "\n",
        "3. Speed: Generators can also be faster than regular loops, especially when working with large data sets. This is because they avoid the overhead of creating a list or other data structure to store the results."
      ],
      "metadata": {
        "id": "gUDABm7WdYo9"
      }
    },
    {
      "cell_type": "code",
      "source": [
        "#Example\n",
        "def gen():\n",
        "    yield from range(5)\n",
        "\n",
        "def square(iterable):\n",
        "    for element in iterable:\n",
        "        yield element ** 2\n",
        "\n",
        "for value in square(gen()):\n",
        "    print(value)"
      ],
      "metadata": {
        "colab": {
          "base_uri": "https://localhost:8080/"
        },
        "id": "Z4S4jXy8dOoa",
        "outputId": "1d026f4b-53bb-43ec-c08a-6b7e91fac043"
      },
      "execution_count": null,
      "outputs": [
        {
          "output_type": "stream",
          "name": "stdout",
          "text": [
            "0\n",
            "1\n",
            "4\n",
            "9\n",
            "16\n"
          ]
        }
      ]
    },
    {
      "cell_type": "markdown",
      "source": [
        "8. What is a lambda function in Python and when is it typically used?\n",
        "\n",
        "Answer: Lambda functions are small, anonymous functions defined using the lambda keyword. They are used for creating small, throwaway functions without the need to formally define a function using def\n",
        "\n",
        "Key Points:\n",
        "\n",
        "Anonymous: Lambda functions are not bound to a name.\n",
        "\n",
        "Single Expression: They can contain only one expression, which is evaluated and returned."
      ],
      "metadata": {
        "id": "xnONTYRGd0VN"
      }
    },
    {
      "cell_type": "code",
      "source": [
        "#example\n",
        "square = lambda x: x*x\n",
        "print(square(7))"
      ],
      "metadata": {
        "colab": {
          "base_uri": "https://localhost:8080/"
        },
        "id": "kV7Yvrctdg4_",
        "outputId": "461af4ea-ffc2-4f0f-8869-b7f0454ccd8e"
      },
      "execution_count": null,
      "outputs": [
        {
          "output_type": "stream",
          "name": "stdout",
          "text": [
            "49\n"
          ]
        }
      ]
    },
    {
      "cell_type": "markdown",
      "source": [
        "9. Explain the purpose and usage of the map() function in Python.\n",
        "\n",
        "Answer: The map function applies a given function to all items in an input iterable (like a list) and returns an iterator with the results.\n",
        "\n",
        "Example\n"
      ],
      "metadata": {
        "id": "niQpu9bidorf"
      }
    },
    {
      "cell_type": "code",
      "source": [
        "numbers = [4,5,6,7,8]\n",
        "squared = map(lambda x : x*x ,numbers)\n",
        "print(list(squared))"
      ],
      "metadata": {
        "colab": {
          "base_uri": "https://localhost:8080/"
        },
        "id": "jphdOkkbd6Q7",
        "outputId": "e0a9cf73-1867-4b78-f8f0-7e1afb3ec82c"
      },
      "execution_count": null,
      "outputs": [
        {
          "output_type": "stream",
          "name": "stdout",
          "text": [
            "[16, 25, 36, 49, 64]\n"
          ]
        }
      ]
    },
    {
      "cell_type": "markdown",
      "source": [
        "10. What is the difference between map(), reduce(), and filter() functions in Python?\n",
        "\n",
        "Answer:\n",
        " While\n",
        "\n",
        "The reduce function is used to apply a particular function passed in its argument to all of the list elements mentioned in the sequence passed along.This function is defined in “functools” module.\n",
        "\n",
        "While\n",
        "\n",
        "The filter() method filters the given sequence with the help of a function that tests each element in the sequence to be true or not.\n",
        "\n",
        "Example:\n"
      ],
      "metadata": {
        "id": "inrbRuGweIPs"
      }
    },
    {
      "cell_type": "code",
      "source": [
        "#In this example, Python program showcases the usage of the map function to double each number\n",
        "# in a given list by applying the double function\n",
        "# and then printing the result as a list.\n",
        "\n",
        "# Function to return double of n\n",
        "def double(n):\n",
        "    return n * 2\n",
        "\n",
        "# Using map to double all numbers\n",
        "numbers = [1,2,3,4]\n",
        "result = map(double, numbers)\n",
        "print(list(result))"
      ],
      "metadata": {
        "colab": {
          "base_uri": "https://localhost:8080/"
        },
        "id": "eRG5OHqOeorb",
        "outputId": "c7af54ae-408e-46e5-b62f-323cd371303a"
      },
      "execution_count": null,
      "outputs": [
        {
          "output_type": "stream",
          "name": "stdout",
          "text": [
            "[2, 4, 6, 8]\n"
          ]
        }
      ]
    },
    {
      "cell_type": "code",
      "source": [
        "#In this example, we are using reduce() function from the functools module to compute\n",
        "#the product of elements in a given list by continuously applying the lambda function\n",
        "#that multiplies two numbers together.\n",
        "\n",
        "import functools\n",
        "\n",
        "# Define a list of numbers\n",
        "numbers = [4, 5, 6, 7]\n",
        "\n",
        "# Use reduce to compute the product of list elements\n",
        "product = functools.reduce(lambda x, y: x * y, numbers)\n",
        "print(\"Product of list elements:\", product)"
      ],
      "metadata": {
        "colab": {
          "base_uri": "https://localhost:8080/"
        },
        "id": "1FES6Jq2fL2Z",
        "outputId": "c9fce81e-3dce-4e2e-b47d-b17d0e06b9da"
      },
      "execution_count": null,
      "outputs": [
        {
          "output_type": "stream",
          "name": "stdout",
          "text": [
            "Product of list elements: 840\n"
          ]
        }
      ]
    },
    {
      "cell_type": "code",
      "source": [
        "#In this example, we defines a function is_even to check whether a number is even or not.\n",
        "#Then, it applies the filter() function to a list of numbers.\n",
        "#resulting in a list containing only the even elements.\n",
        "\n",
        "# Define a function to check if a number is even\n",
        "def is_even(n):\n",
        "    return n % 2 == 0\n",
        "\n",
        "# Define a list of numbers\n",
        "numbers = [11, 12, 13, 14, 15, 16, 17, 18, 19, 20]\n",
        "\n",
        "# Use filter to filter out even numbers\n",
        "even_numbers = filter(is_even, numbers)\n",
        "print(\"Even numbers:\", list(even_numbers))"
      ],
      "metadata": {
        "colab": {
          "base_uri": "https://localhost:8080/"
        },
        "id": "qOGrDZbefcEx",
        "outputId": "8138126d-6ca8-412b-ae86-6304a4f2d16d"
      },
      "execution_count": null,
      "outputs": [
        {
          "output_type": "stream",
          "name": "stdout",
          "text": [
            "Even numbers: [12, 14, 16, 18, 20]\n"
          ]
        }
      ]
    },
    {
      "cell_type": "markdown",
      "source": [
        "11. Using pen & paper write the internal mechanism for sum operation using reduce function on this given list:[47,11,42,13].\n",
        "\n",
        "Answer:[https://drive.google.com/drive/folders/1ibo1lMq91kyvdF0FE4sn0yTJjk7yzO4E?usp=drive_link]"
      ],
      "metadata": {
        "id": "_YFqxgzlfv1M"
      }
    },
    {
      "cell_type": "markdown",
      "source": [
        "**Practical Questions:**\n",
        "\n",
        "1. Write a Python function that takes a list of numbers as input and returns the sum of all even numbers in the list.\n",
        "\n",
        "Answer:"
      ],
      "metadata": {
        "id": "I6PzjWLbgD9-"
      }
    },
    {
      "cell_type": "code",
      "source": [
        "myList = [1, 2, 3, 7, 13, 14, 6, 7]\n",
        "result = 0  # Initialize results variable.\n",
        "for i in myList:  # Loop through each element of the list.\n",
        "   if not i % 2:  # Test for even numbers.\n",
        "     result += i\n",
        "\n",
        "print(result)"
      ],
      "metadata": {
        "colab": {
          "base_uri": "https://localhost:8080/"
        },
        "id": "l5zab9BQgkER",
        "outputId": "f0a7a031-a517-472a-b081-9658e77afc74"
      },
      "execution_count": null,
      "outputs": [
        {
          "output_type": "stream",
          "name": "stdout",
          "text": [
            "22\n"
          ]
        }
      ]
    },
    {
      "cell_type": "markdown",
      "source": [
        "2. Create a Python function that accepts a string and returns the reverse of that string.\n",
        "\n",
        "Answer:"
      ],
      "metadata": {
        "id": "GmecduXMg6qB"
      }
    },
    {
      "cell_type": "code",
      "source": [
        "def my_function(x):\n",
        "  return x[::-1]\n",
        "\n",
        "mytxt = my_function(\"Dreams come true\")\n",
        "\n",
        "print(mytxt)"
      ],
      "metadata": {
        "colab": {
          "base_uri": "https://localhost:8080/"
        },
        "id": "7N78ZxIig9EY",
        "outputId": "ce4fade2-3482-42cd-a9f9-682b35bf3ddf"
      },
      "execution_count": null,
      "outputs": [
        {
          "output_type": "stream",
          "name": "stdout",
          "text": [
            "eurt emoc smaerD\n"
          ]
        }
      ]
    },
    {
      "cell_type": "markdown",
      "source": [
        "3. Implement a Python function that takes a list of integers and returns a new list containing the squares of each number.\n",
        "\n",
        "Answer:"
      ],
      "metadata": {
        "id": "3OEQdKm9heuT"
      }
    },
    {
      "cell_type": "code",
      "source": [
        "# create a list with 8 integer elements\n",
        "list=[1,2,3,4,6,7,8,9]\n",
        "\n",
        "# use list comprehension to get square\n",
        "result = [i*i for i in list]\n",
        "\n",
        "# display the result\n",
        "print(result)"
      ],
      "metadata": {
        "colab": {
          "base_uri": "https://localhost:8080/"
        },
        "id": "1sdD1sULhiYb",
        "outputId": "de737010-f020-4011-bb2e-94cb1b5b7eaa"
      },
      "execution_count": null,
      "outputs": [
        {
          "output_type": "stream",
          "name": "stdout",
          "text": [
            "[1, 4, 9, 16, 36, 49, 64, 81]\n"
          ]
        }
      ]
    },
    {
      "cell_type": "markdown",
      "source": [
        "4. Write a Python function that checks if a given number is prime or not from 1 to 200.\n",
        "\n",
        "Answer:"
      ],
      "metadata": {
        "id": "f2kBq5IshvRd"
      }
    },
    {
      "cell_type": "code",
      "source": [
        "def is_prime_recursive(num, divisor=None):\n",
        "    if divisor is None:\n",
        "        divisor = num - 1\n",
        "    if num <= 1:\n",
        "        return False\n",
        "    if divisor == 1:\n",
        "        return True\n",
        "    if num % divisor == 0:\n",
        "        return False\n",
        "    return is_prime_recursive(num, divisor - 1)\n",
        "\n",
        "number = int(input(\"Enter a number: \"))\n",
        "if is_prime_recursive(number):\n",
        "    print(f\"{number} is a prime number.\")\n",
        "else:\n",
        "    print(f\"{number} is not a prime number.\")"
      ],
      "metadata": {
        "colab": {
          "base_uri": "https://localhost:8080/"
        },
        "id": "EFHXDNyXiM_b",
        "outputId": "60ab5afb-4c20-44e5-c9e0-4f8b497cf0ba"
      },
      "execution_count": null,
      "outputs": [
        {
          "output_type": "stream",
          "name": "stdout",
          "text": [
            "Enter a number: 43\n",
            "43 is a prime number.\n"
          ]
        }
      ]
    },
    {
      "cell_type": "markdown",
      "source": [
        "5. Create an iterator class in Python that generates the Fibonacci sequence up to a specified number of terms.\n",
        "\n",
        "Answer:"
      ],
      "metadata": {
        "id": "G0M6g_ciiZzq"
      }
    },
    {
      "cell_type": "code",
      "source": [
        "num = 16\n",
        "n1, n2 = 0,1\n",
        "if num == 1:\n",
        "  print(n1)\n",
        "else:\n",
        "  print(n1,n2,end=\" \")\n",
        "  for i in range(2,num):\n",
        "    n3 = n1 + n2\n",
        "    n1 = n2\n",
        "    n2 = n3\n",
        "    print(n3, end=\" \")"
      ],
      "metadata": {
        "colab": {
          "base_uri": "https://localhost:8080/"
        },
        "id": "qPcXa7T7ihLH",
        "outputId": "360c3f45-d6ed-4554-fd24-0c6c4271ff2e"
      },
      "execution_count": null,
      "outputs": [
        {
          "output_type": "stream",
          "name": "stdout",
          "text": [
            "0 1 1 2 3 5 8 13 21 34 55 89 144 233 377 610 "
          ]
        }
      ]
    },
    {
      "cell_type": "markdown",
      "source": [
        "6. Write a generator function in Python that yields the powers of 2 up to a given exponent.\n",
        "\n",
        "Answer:"
      ],
      "metadata": {
        "id": "dU-axX_PikxW"
      }
    },
    {
      "cell_type": "code",
      "source": [
        "def gen(x):\n",
        "   i = 2\n",
        "   for n in range(x + 1):\n",
        "       yield i\n",
        "       i <<= 1\n",
        "   list(gen(2))\n",
        "[4, 8, 16, 32,64]"
      ],
      "metadata": {
        "colab": {
          "base_uri": "https://localhost:8080/"
        },
        "id": "vRLjSi6Nio9k",
        "outputId": "1d278294-ca05-4288-8748-80fd9f5b0d92"
      },
      "execution_count": null,
      "outputs": [
        {
          "output_type": "execute_result",
          "data": {
            "text/plain": [
              "[4, 8, 16, 32, 64]"
            ]
          },
          "metadata": {},
          "execution_count": 22
        }
      ]
    },
    {
      "cell_type": "markdown",
      "source": [
        "7. Implement a generator function that reads a file line by line and yields each line as a string.\n",
        "\n",
        "Answer:"
      ],
      "metadata": {
        "id": "xSMyVpcxi_l0"
      }
    },
    {
      "cell_type": "code",
      "source": [
        "L = [\"Geeks\\n\", \"for\\n\", \"Geeks\\n\"]\n",
        "\n",
        "# Writing to file\n",
        "file1 = open('myfile.txt', 'w')\n",
        "file1.writelines(L)\n",
        "file1.close()\n",
        "\n",
        "# Opening file\n",
        "file1 = open('myfile.txt', 'r')\n",
        "count = 0\n",
        "\n",
        "# Using for loop\n",
        "print(\"Using for loop\")\n",
        "for line in file1:\n",
        "    count += 1\n",
        "    print(\"Line{}: {}\".format(count, line.strip()))\n",
        "\n",
        "# Closing files\n",
        "file1.close()"
      ],
      "metadata": {
        "colab": {
          "base_uri": "https://localhost:8080/"
        },
        "id": "uH-Kd_2BjHe4",
        "outputId": "dc5efba7-2323-413c-d96f-f0b415b65a03"
      },
      "execution_count": null,
      "outputs": [
        {
          "output_type": "stream",
          "name": "stdout",
          "text": [
            "Using for loop\n",
            "Line1: Geeks\n",
            "Line2: for\n",
            "Line3: Geeks\n"
          ]
        }
      ]
    },
    {
      "cell_type": "markdown",
      "source": [
        "8. Use a lambda function in Python to sort a list of tuples based on the second element of each tuple.\n",
        "\n",
        "Answer:"
      ],
      "metadata": {
        "id": "_YrC9OryjJE8"
      }
    },
    {
      "cell_type": "code",
      "source": [
        "# Create a list of tuples named 'subject_marks', each tuple containing a subject and its corresponding marks\n",
        "subject_marks = [('English', 92), ('Science', 82), ('Maths', 91), ('Social sciences', 97)]\n",
        "\n",
        "# Display the original list of tuples to the console\n",
        "print(\"Original list of tuples:\")\n",
        "print(subject_marks)\n",
        "\n",
        "# Sort the 'subject_marks' list of tuples based on the second element of each tuple (the marks),\n",
        "# using a lambda function as the sorting key to extract the second element\n",
        "subject_marks.sort(key=lambda x: x[1])\n",
        "\n",
        "# Display the sorted list of tuples to the console\n",
        "print(\"\\nSorting the List of Tuples:\")\n",
        "print(subject_marks)"
      ],
      "metadata": {
        "colab": {
          "base_uri": "https://localhost:8080/"
        },
        "id": "Xph3Rt8PjO-u",
        "outputId": "db24d606-fb73-4cdd-d4b0-56d22fd2b6ae"
      },
      "execution_count": null,
      "outputs": [
        {
          "output_type": "stream",
          "name": "stdout",
          "text": [
            "Original list of tuples:\n",
            "[('English', 92), ('Science', 82), ('Maths', 91), ('Social sciences', 97)]\n",
            "\n",
            "Sorting the List of Tuples:\n",
            "[('Science', 82), ('Maths', 91), ('English', 92), ('Social sciences', 97)]\n"
          ]
        }
      ]
    },
    {
      "cell_type": "markdown",
      "source": [
        "9. Write a Python program that uses map() to convert a list of temperatures from Celsius to Fahrenheit.\n",
        "\n",
        "Answer:"
      ],
      "metadata": {
        "id": "SOkjaFHfjaJT"
      }
    },
    {
      "cell_type": "code",
      "source": [
        "celsius = float(input(\"Enter temperature\\\n",
        "in celsius: \"))\n",
        "\n",
        "fahrenheit = (celsius * 1.1) + 16\n",
        "\n",
        "print(str(celsius )+ \" degree Celsius\\\n",
        "is equal to \" + str(fahrenheit )+\n",
        "\t\" degree Fahrenheit.\")"
      ],
      "metadata": {
        "colab": {
          "base_uri": "https://localhost:8080/"
        },
        "id": "AxENjKPsjzI8",
        "outputId": "2154fd98-72fb-41c0-a12b-4ceb5be4716f"
      },
      "execution_count": null,
      "outputs": [
        {
          "output_type": "stream",
          "name": "stdout",
          "text": [
            "Enter temperaturein celsius: 17\n",
            "17.0 degree Celsiusis equal to 34.7 degree Fahrenheit.\n"
          ]
        }
      ]
    },
    {
      "cell_type": "markdown",
      "source": [
        "10. Create a Python program that uses filter() to remove all the vowels from a given string.\n",
        "\n",
        "Answer:"
      ],
      "metadata": {
        "id": "6IacHgXUkqwd"
      }
    },
    {
      "cell_type": "code",
      "source": [
        "string = \"Beautiful\"\n",
        "\n",
        "vowels = ['a', 'e', 'i', 'o', 'u', 'A', 'E', 'I', 'O', 'U']\n",
        "result = \"\"\n",
        "\n",
        "for i in range(len(string)):\n",
        "    if string[i] not in vowels:\n",
        "        result = result + string[i]\n",
        "\n",
        "print(\"\\nAfter removing Vowels: \", result)"
      ],
      "metadata": {
        "colab": {
          "base_uri": "https://localhost:8080/"
        },
        "id": "V-AftF9okswn",
        "outputId": "33d8205e-3086-4756-898c-760d3437b952"
      },
      "execution_count": null,
      "outputs": [
        {
          "output_type": "stream",
          "name": "stdout",
          "text": [
            "\n",
            "After removing Vowels:  Btfl\n"
          ]
        }
      ]
    },
    {
      "cell_type": "markdown",
      "source": [
        "11. Imagine an accounting routine used in a book shop. It works on a list with sublists, which look like this:\n",
        "\n",
        "Answer: Order Number,  Book Title and Author,   Quantity, Price per Item.\n",
        "\n",
        "34587 , Learning Python, Mark Lutz, 4 , 40.95\n",
        "\n",
        "98762 , Programming Python, Mark Lutz, 5 , 56.80\n",
        "\n",
        "77226 , Head First Python, Paul Barry , 3 , 32.95\n",
        "\n",
        "88112 , Einführung in Python3, Bernd Klein, 3 , 24.99   ."
      ],
      "metadata": {
        "id": "KRgJ1lQEk79F"
      }
    },
    {
      "cell_type": "markdown",
      "source": [
        "Write a Python program, which returns a list with 2-tuples. Each tuple consists of the order number and the product of the price per item and the quantity. The product should be increased by 10,- € if the value of the order is smaller than 100,00 €.\n",
        "\n",
        "Write a Python program using lambda and map\n",
        "\n",
        "Answer:"
      ],
      "metadata": {
        "id": "7kQcqB32lbUS"
      }
    },
    {
      "cell_type": "code",
      "source": [
        "#Solution-1\n",
        "\n",
        "orders = [ [\"34587\", \"Learning Python, Mark Lutz\", 4, 40.95],[\"98762\", \"Programming Python, Mark Lutz\", 5, 56.80],[\"77226\", \"Head First Python, Paul Barry\", 3,32.95],[\"88112\", \"Einführung in Python3, Bernd Klein\", \t3, 24.99]]\n",
        "\n",
        "invoice_totals = list(map(lambda x: x if x[1] >= min_order else (x[0], x[1] + 10),map(lambda x: (x[0],x[2] * x[3]), orders)))\n",
        "\n",
        "#Note- To understand the working of above lambda function break the function till innermost map function. Break and understand in below fashion\n",
        "'''\n",
        "output1 = map(lambda x: (x[0],x[2] * x[3]), orders) #Innermost lambda function execution\n",
        "\n",
        "output2 = map(lambda x: x if x[1] >= min_order else (x[0], x[1] + 10),map(lambda x: (x[0],x[2] * x[3]), orders))\n",
        "\n",
        "final = list(map(lambda x: x if x[1] >= min_order else (x[0], x[1] + 10),map(lambda x: (x[0],x[2] * x[3]), orders)))\n",
        "'''\n",
        "\n",
        "#Solution-2\n",
        "\n",
        "from functools import reduce\n",
        "\n",
        "orders = [ [1, (\"5464\", 4, 9.99), (\"8274\",18,12.99), (\"9744\", 9, 44.95)],[2, (\"5464\", 9, 9.99), (\"9744\", 9, 44.95)],[3, (\"5464\", 9, 9.99), (\"88112\", 11, 24.99)],[4, (\"8732\", 7, 11.99), (\"7733\",11,18.99), (\"88112\", 5, 39.95)] ]\n",
        "\n",
        "invoice = list(map(lambda k: k if k[1]>=100 else (k[0],k[1]+10),map(lambda x:(x[0],reduce(lambda a,b:a+b,list(map(lambda y:y[1]*y[2] ,x[1:])))),orders)))\n",
        "\n",
        "#Breaking\n",
        "\n",
        "'''\n",
        "output1=map(lambda y:y[1]*y[2] ,x[1:])\n",
        "output2=list(map(lambda y:y[1]*y[2] ,x[1:]))\n",
        "output3=reduce(lambda a,b:a+b,list(map(lambda y:y[1]*y[2] ,x[1:])))\n",
        "output4=map(lambda x:(x[0],reduce(lambda a,b:a+b,list(map(lambda y:y[1]*y[2] ,x[1:]))))\n",
        "output5=map(lambda k: k if k[1]>=100 else (k[0],k[1]+10),map(lambda x:(x[0],reduce(lambda a,b:a+b,list(map(lambda y:y[1]*y[2] ,x[1:])))),orders))\n",
        "output6=list(map(lambda k: k if k[1]>=100 else (k[0],k[1]+10),map(lambda x:(x[0],reduce(lambda a,b:a+b,list(map(lambda y:y[1]*y[2] ,x[1:])))),orders)))\n",
        "'''"
      ],
      "metadata": {
        "id": "quSUpiLIm6Lg"
      },
      "execution_count": null,
      "outputs": []
    }
  ]
}